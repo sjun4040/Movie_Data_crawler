{
 "cells": [
  {
   "cell_type": "markdown",
   "id": "76bd13f1",
   "metadata": {},
   "source": [
    "# 영화 데이터 수집 프로젝트 "
   ]
  },
  {
   "cell_type": "markdown",
   "id": "53763bf0",
   "metadata": {},
   "source": [
    "# 0.라이브러리 불러오기"
   ]
  },
  {
   "cell_type": "code",
   "execution_count": null,
   "id": "170baffa",
   "metadata": {},
   "outputs": [],
   "source": [
    "import requests\n",
    "from bs4 import BeautifulSoup\n",
    "from io import BytesIO\n",
    "from PIL import Image\n",
    "import re\n",
    "import os\n",
    "from IPython.display import display"
   ]
  },
  {
   "cell_type": "markdown",
   "id": "0baf4a15",
   "metadata": {},
   "source": [
    "## 1. 영화 사이트 요청 및 파싱"
   ]
  },
  {
   "cell_type": "code",
   "execution_count": null,
   "id": "e7933e6a",
   "metadata": {},
   "outputs": [],
   "source": [
    "movie_ranking = requests.get(\"https://www.moviechart.co.kr/rank/realtime/index/image\")\n",
    "if movie_ranking.status_code == 200:\n",
    "    soup = BeautifulSoup(movie_ranking.content, 'html.parser')"
   ]
  },
  {
   "cell_type": "markdown",
   "id": "71c8249c",
   "metadata": {},
   "source": [
    "## 2. 저장 디렉토리 준비, 파일명 규칙 생성"
   ]
  },
  {
   "cell_type": "code",
   "execution_count": null,
   "id": "789d275e",
   "metadata": {},
   "outputs": [],
   "source": [
    "image_dir = 'images'\n",
    "if not os.path.exists(image_dir):\n",
    "    os.makedirs(image_dir)\n",
    "pattern = r'[\\\\/:\"*?<>|]'"
   ]
  },
  {
   "cell_type": "markdown",
   "id": "b970e5d7",
   "metadata": {},
   "source": [
    "## 3. 영화 제목, 이미지 태그 추출"
   ]
  },
  {
   "cell_type": "code",
   "execution_count": null,
   "id": "ad37abea",
   "metadata": {},
   "outputs": [],
   "source": [
    "title_list = soup.select(\".movieBox-list .movie-title a\")\n",
    "image_list = soup.select(\".movieBox-list .movieBox-item img\")"
   ]
  },
  {
   "cell_type": "markdown",
   "id": "da410201",
   "metadata": {},
   "source": [
    "## 4. 이미지 수집 및 저장 프로세스"
   ]
  },
  {
   "cell_type": "code",
   "execution_count": null,
   "id": "f14e17c1",
   "metadata": {},
   "outputs": [],
   "source": [
    "for title, image in zip(title_list, image_list):\n",
    "    image_src = image.get('src')\n",
    "    image_response = requests.get(\"https://www.moviechart.co.kr\" + image_src)\n",
    "    img = Image.open(BytesIO(image_response.content))\n",
    "    image_filename = re.sub(pattern, '', title.text)\n",
    "    img.save(os.path.join(image_dir, image_filename + \".png\"))"
   ]
  },
  {
   "cell_type": "markdown",
   "id": "ffa917dc",
   "metadata": {},
   "source": [
    "## 5. 영화 랭킹, 포스터 자동 수집"
   ]
  },
  {
   "cell_type": "code",
   "execution_count": null,
   "id": "6df91a02",
   "metadata": {},
   "outputs": [],
   "source": [
    "print(f\"수집한 영화 수: {len(title_list)}\")"
   ]
  },
  {
   "cell_type": "code",
   "execution_count": null,
   "id": "573c1c86",
   "metadata": {},
   "outputs": [],
   "source": [
    "base_url = \"https://www.moviechart.co.kr\"\n",
    "ranking_url = base_url + \"/rank/realtime/index/image\"\n",
    "image_dir = \"images\"\n",
    "if not os.path.exists(image_dir):\n",
    "    os.makedirs(image_dir)\n",
    "\n",
    "# 1. 실시간 사이트에서 HTML 가져오기\n",
    "resp = requests.get(ranking_url)\n",
    "soup = BeautifulSoup(resp.content, 'html.parser')\n",
    "\n",
    "# 2. 영화 제목과 이미지 경로 리스트 파싱\n",
    "title_tags = soup.select(\".movieBox-list .movie-title a\")\n",
    "img_tags = soup.select(\".movieBox-list .movieBox-item img\")\n",
    "\n",
    "movies = []\n",
    "for rank, (title_tag, img_tag) in enumerate(zip(title_tags, img_tags), 1):\n",
    "    title = title_tag.text.strip()\n",
    "    img_src = img_tag.get('src')\n",
    "    if not img_src.startswith(\"http\"):\n",
    "        img_url = base_url + img_src\n",
    "    else:\n",
    "        img_url = img_src\n",
    "    # 파일명 정제\n",
    "    import re\n",
    "    pattern = r'[\\\\/:\"*?<>|]'\n",
    "    filename = re.sub(pattern, '', title) + \".png\"\n",
    "    filepath = os.path.join(image_dir, filename)\n",
    "    # 필요시 이미지 새로 저장\n",
    "    if not os.path.exists(filepath):\n",
    "        img_resp = requests.get(img_url)\n",
    "        img = Image.open(BytesIO(img_resp.content))\n",
    "        img.save(filepath)\n",
    "    # 리스트에 저장\n",
    "    movies.append({'rank': rank, 'title': title, 'filepath': filepath})\n",
    "\n",
    "# 3. 랭킹, 제목, 이미지 동시 출력\n",
    "for movie in movies:\n",
    "    print(f\"랭킹: {movie['rank']}\")\n",
    "    print(f\"제목: {movie['title']}\")\n",
    "    img = Image.open(movie['filepath'])\n",
    "    display(img)\n",
    "    print('-' * 30)"
   ]
  },
  {
   "cell_type": "markdown",
   "id": "a2e3d45c",
   "metadata": {},
   "source": [
    "# 6. 결론"
   ]
  },
  {
   "cell_type": "markdown",
   "id": "2ed458b2",
   "metadata": {},
   "source": [
    "실시간 영화 랭킹과 포스터 이미지를 자동 수집, 저장하고,<br>\n",
    "최신 정보를 효과적으로 시각화하는 파이프라인 구현<br>\n",
    "신뢰성있는  멀티미디어데이터 확보하였다고 판단<br>\n",
    "멀티미디어데이터 수집 프로젝트를 달성했다고 판단."
   ]
  }
 ],
 "metadata": {
  "kernelspec": {
   "display_name": "webcrawl_env",
   "language": "python",
   "name": "python3"
  },
  "language_info": {
   "codemirror_mode": {
    "name": "ipython",
    "version": 3
   },
   "file_extension": ".py",
   "mimetype": "text/x-python",
   "name": "python",
   "nbconvert_exporter": "python",
   "pygments_lexer": "ipython3",
   "version": "3.10.18"
  }
 },
 "nbformat": 4,
 "nbformat_minor": 5
}
